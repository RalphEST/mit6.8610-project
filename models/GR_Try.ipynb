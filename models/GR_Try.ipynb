{
 "cells": [
  {
   "cell_type": "code",
   "execution_count": 2,
   "id": "c6b04066-3a3e-41d6-ae57-8fb9af83453c",
   "metadata": {},
   "outputs": [],
   "source": [
    "import numpy as np\n",
    "\n",
    "data = np.load(\"data/toy_data/mutseqs.npy\")\n",
    "embeddings = np.load(\"data/toy_data/ESMEmbed.npy\")\n"
   ]
  },
  {
   "cell_type": "code",
   "execution_count": 3,
   "id": "f7ddfa93-df58-45d4-9798-9f13277a7eda",
   "metadata": {},
   "outputs": [],
   "source": [
    "embeddings = np.squeeze(embeddings,axis=1)"
   ]
  },
  {
   "cell_type": "code",
   "execution_count": 4,
   "id": "dff26ea1-5e3e-4b2a-aa7d-61c277cedce2",
   "metadata": {},
   "outputs": [
    {
     "name": "stdout",
     "output_type": "stream",
     "text": [
      "(188, 163, 1280)\n"
     ]
    }
   ],
   "source": [
    "print(embeddings.shape)"
   ]
  },
  {
   "cell_type": "code",
   "execution_count": 5,
   "id": "8261b11c-9c7f-4c6f-a725-e1d0498d818e",
   "metadata": {},
   "outputs": [
    {
     "name": "stdout",
     "output_type": "stream",
     "text": [
      "(10, 188, 1280)\n"
     ]
    }
   ],
   "source": [
    "# print(data[:5],data.shape)\n",
    "# print(embeddings[:5],embeddings.shape)\n",
    "ngenes = 10\n",
    "glen = embeddings.shape[1]//ngenes\n",
    "\n",
    "cutpoints = [glen*i for i in range(1,ngenes)]\n",
    "\n",
    "\n",
    "cuts = np.split(embeddings,cutpoints,axis=1)\n",
    "\n",
    "def average_embeddings(slice_):\n",
    "    return np.mean(slice_,axis=1)\n",
    "\n",
    "\n",
    "# \n",
    "\n",
    "cuts = np.array(list(map(average_embeddings,cuts)))\n",
    "\n",
    "# x = [[np.mean(cut[0],axis=0),np.mean(cut[1],axis=0)] for cut in cuts]\n",
    "print(cuts.shape)\n",
    "np.save(\"data/toy_data/EmbeddingsDivbyGenes_6.npy\",cuts)\n",
    "# x = [np.concatenate((cut[0],cut[1])) for cut in x]\n",
    "# x = np.array(x)\n"
   ]
  },
  {
   "cell_type": "markdown",
   "id": "ae8e79eb-82a0-4b8d-896c-5671f0a82b8f",
   "metadata": {},
   "source": [
    "# Graph Attention"
   ]
  },
  {
   "cell_type": "code",
   "execution_count": 6,
   "id": "f2142b7f-88ab-4db6-8492-2fdcef11f899",
   "metadata": {},
   "outputs": [],
   "source": [
    "# !pip install networkx\n",
    "import networkx as nx\n",
    "\n",
    "graph = nx.erdos_renyi_graph(ngenes, 0.5, seed=2, directed=False)"
   ]
  },
  {
   "cell_type": "code",
   "execution_count": 7,
   "id": "5a3d6f6d-24c4-4e35-9783-9b77f41487f3",
   "metadata": {},
   "outputs": [
    {
     "name": "stdout",
     "output_type": "stream",
     "text": [
      "[0, 1, 2, 3, 4, 5, 6, 7, 8, 9] [(0, 3), (0, 4), (0, 8), (1, 4), (1, 5), (1, 6), (2, 4), (2, 5), (2, 6), (2, 7), (2, 8), (2, 9), (3, 4), (3, 8), (3, 9), (4, 5), (4, 6), (5, 6), (7, 8)]\n"
     ]
    }
   ],
   "source": [
    "print(graph.nodes,graph.edges)\n",
    "# nx.draw(graph)c"
   ]
  },
  {
   "cell_type": "code",
   "execution_count": 8,
   "id": "c3f1df9a-7934-44c1-a318-e7626652e64c",
   "metadata": {},
   "outputs": [
    {
     "name": "stderr",
     "output_type": "stream",
     "text": [
      "/home/ssawmya/anaconda3/envs/gpu_env/lib/python3.10/site-packages/tqdm/auto.py:22: TqdmWarning: IProgress not found. Please update jupyter and ipywidgets. See https://ipywidgets.readthedocs.io/en/stable/user_install.html\n",
      "  from .autonotebook import tqdm as notebook_tqdm\n"
     ]
    },
    {
     "name": "stdout",
     "output_type": "stream",
     "text": [
      "(188, 10, 1280)\n"
     ]
    }
   ],
   "source": [
    "import torch\n",
    "import dgl\n",
    "from torch import cuda\n",
    "\n",
    "if cuda.is_available():\n",
    "    device = torch.device('cuda')\n",
    "else:\n",
    "    print(\"this is running in cpu!\")\n",
    "    device = torch.device('cpu')\n",
    "from torch_geometric.utils.convert import from_networkx\n",
    "data = cuts.transpose(1,0,2)\n",
    "print(data.shape)\n",
    "\n",
    "\n"
   ]
  },
  {
   "cell_type": "code",
   "execution_count": 136,
   "id": "1ce6e794-7b9f-4d72-a737-b263a6038c8b",
   "metadata": {},
   "outputs": [],
   "source": [
    "import random\n",
    "for gene in cuts:\n",
    "    for patient in gene:\n",
    "        random_indices = random.sample(range(1, len(patient)), 100)\n",
    "        max_,min_ = max(patient),min(patient)\n",
    "        old = patient[random_indices]\n",
    "        patient[random_indices] = np.random.uniform(min_,max_,size=100)\n",
    "        new = patient[random_indices]\n",
    "        assert np.abs(old - new).sum() != 0\n",
    "        \n",
    "\n",
    "# max(cuts[0][0]),min(cuts[0][0]))"
   ]
  },
  {
   "cell_type": "code",
   "execution_count": 139,
   "id": "751ea62e-80e1-43e4-8421-0873cff55944",
   "metadata": {},
   "outputs": [
    {
     "name": "stdout",
     "output_type": "stream",
     "text": [
      "(188, 10, 1280)\n"
     ]
    }
   ],
   "source": [
    "\n",
    "np.corrcoef(cuts[0])\n",
    "data = cuts.transpose(1,0,2)\n",
    "print(data.shape)\n",
    "\n"
   ]
  },
  {
   "cell_type": "code",
   "execution_count": 9,
   "id": "e3666830-6578-4468-ad86-b2b011e8fb8e",
   "metadata": {},
   "outputs": [
    {
     "name": "stdout",
     "output_type": "stream",
     "text": [
      "188\n"
     ]
    }
   ],
   "source": [
    "def build_graph(node_embedding):\n",
    "    G = from_networkx(graph)\n",
    "    \n",
    "    G.x = torch.Tensor(node_embedding)\n",
    "\n",
    "    G = G.to(device)\n",
    "    return G\n",
    "graphs = [build_graph(embedding) for embedding in data]\n",
    "print(len(graphs))"
   ]
  },
  {
   "cell_type": "code",
   "execution_count": 10,
   "id": "4907c79b-0b07-4d7f-b507-5896fcfb9ad6",
   "metadata": {},
   "outputs": [],
   "source": [
    "hparams = {\n",
    "    \"input_size\":cuts.shape[2],\n",
    "    \"hsz\":500,\n",
    "    \"alpha\": 0.2,\n",
    "    \"num_heads\":5,\n",
    "    \"bsz\":16,\n",
    "    \"num_epochs\":10,\n",
    "    \"lr\":10,\n",
    "    \"ngenes\":10\n",
    "}"
   ]
  },
  {
   "cell_type": "code",
   "execution_count": 12,
   "id": "f63b9c5a-cfb5-4e51-89be-e5c5c95f000a",
   "metadata": {},
   "outputs": [
    {
     "name": "stdout",
     "output_type": "stream",
     "text": [
      "[0 0 0 0 0 1 1 0 1 0 1 0 0 0 1 0 0 0 0 1 1 0 0 0 0 1 0 1 0 1 0 1 1 0 1 0 0\n",
      " 0 0 0 1 0 0 0 1 1 0 0 0 1 0 0 1 0 0 1 0 0 0 0 0 1 0 0 0 0 1 0 0 0 1 0 0 1\n",
      " 0 0 0 0 0 1 0 0 0 1 0 0 0 1 0 1 1 0 1 0 0 0 1 0 0 0 1 0 0 1 1 0 0 1 1 0 1\n",
      " 0 0 0 0 0 1 1 1 1 0 0 0 0 0 0 1 0 0 0 0 1 0 1 0 0 1 0 0 0 0 0 1 0 0 0 0 1\n",
      " 1 0 0 0 0 1 0 1 0 0 1 1 0 1 1 1 0 0 1 0 0 0 0 1 0 0 0 1 1 0 0 0 1 0 0 0 1\n",
      " 0 0]\n"
     ]
    }
   ],
   "source": [
    "phenotype_table = np.load(\"seq_table.npy\",allow_pickle=True)\n",
    "Y = phenotype_table[:,2].astype(np.int64)\n",
    "print(Y)\n",
    "# Y = torch.nn.functional.one_hot(torch.Tensor(Y),num_classes=2)\n",
    "\n",
    "dataset = list(zip(graphs,Y))\n",
    "from dgl.data.utils import split_dataset\n",
    "train_dataset, valid_dataset, test_dataset = split_dataset(dataset, [0.8, 0.1, 0.1])\n",
    "\n",
    "# from torch.utils.data import DataLoader\n",
    "# def collate(samples):\n",
    "#         graphs, labels = map(list, zip(*samples))\n",
    "#         batched_graph = dgl.batch(graphs)\n",
    "#         return batched_graph, torch.tensor(labels)\n",
    "    \n",
    "# train_loader = DataLoader(train_dataset, batch_size=hparams[\"bsz\"], shuffle=True)\n",
    "# valid_loader = DataLoader(valid_dataset, hparams[\"bsz\"], shuffle=True,\n",
    "#                      collate_fn=collate)\n",
    "# test_loader = DataLoader(test_dataset, hparams[\"bsz\"], shuffle=True,\n",
    "#                      collate_fn=collate)\n"
   ]
  },
  {
   "cell_type": "code",
   "execution_count": 23,
   "id": "ff7dc86a-5740-4451-a9c2-ca50adf5546d",
   "metadata": {},
   "outputs": [],
   "source": [
    "from torch_geometric.nn import GCNConv, GATv2Conv\n",
    "from torch import nn\n",
    "\n",
    "\n",
    "class GAT_Protein(nn.Module):\n",
    "    def __init__(self,hparams):\n",
    "        super(GAT_Protein, self).__init__()\n",
    "        self.input_layer = nn.Linear(hparams[\"input_size\"],hparams[\"hsz\"])\n",
    "        self.GATLayer1 = GATv2Conv(hparams[\"hsz\"],hparams[\"hsz\"],num_heads=hparams[\"num_heads\"])\n",
    "        self.output_layer1 = nn.Linear(hparams[\"hsz\"]*hparams[\"ngenes\"],hparams[\"hsz\"])\n",
    "        self.output_layer = nn.Linear(hparams[\"hsz\"],1)\n",
    "        self.leakyrelu = nn.LeakyReLU(hparams[\"alpha\"])\n",
    "        # self.output_layer = nn.functional.softmax(hsz,1)\n",
    "        \n",
    "    def forward(self,graph):\n",
    "        \n",
    "        # print(x)\n",
    "        x = self.input_layer(graph.x)\n",
    "        \n",
    "        x = self.leakyrelu(self.GATLayer1(x,graph.edge_index))\n",
    "        # print(\"Before Flatten\",x,x.shape)\n",
    "        x = torch.flatten(x)\n",
    "        # print(\"After Flatten\",x.shape)\n",
    "        x = self.output_layer1(x)\n",
    "        x = self.output_layer(x)\n",
    "        # print(\"Before Softmax\",x,x.shape)\n",
    "        # x = nn.functional.softmax(x)\n",
    "        x = nn.functional.softmax(x)\n",
    "        # print(\"After Softmax\",x)\n",
    "        return x\n",
    "    \n",
    "    def avg_attention_heads(self, x):\n",
    "        return torch.mean(x, dim = 1)\n",
    "        \n",
    "    "
   ]
  },
  {
   "cell_type": "code",
   "execution_count": 24,
   "id": "49c05d35-510f-4546-b430-b36553fe964d",
   "metadata": {},
   "outputs": [
    {
     "name": "stdout",
     "output_type": "stream",
     "text": [
      "{'input_size': 1280, 'hsz': 500, 'alpha': 0.2, 'num_heads': 5, 'bsz': 16, 'num_epochs': 10, 'lr': 10, 'ngenes': 10}\n",
      "=================================================================\n",
      "Layer (type:depth-idx)                   Param #\n",
      "=================================================================\n",
      "├─Linear: 1-1                            640,500\n",
      "├─GATv2Conv: 1-2                         --\n",
      "|    └─SumAggregation: 2-1               --\n",
      "|    └─Linear: 2-2                       250,500\n",
      "|    └─Linear: 2-3                       250,500\n",
      "├─Linear: 1-3                            2,500,500\n",
      "├─Linear: 1-4                            501\n",
      "├─LeakyReLU: 1-5                         --\n",
      "=================================================================\n",
      "Total params: 3,642,501\n",
      "Trainable params: 3,642,501\n",
      "Non-trainable params: 0\n",
      "=================================================================\n"
     ]
    },
    {
     "data": {
      "text/plain": [
       "=================================================================\n",
       "Layer (type:depth-idx)                   Param #\n",
       "=================================================================\n",
       "├─Linear: 1-1                            640,500\n",
       "├─GATv2Conv: 1-2                         --\n",
       "|    └─SumAggregation: 2-1               --\n",
       "|    └─Linear: 2-2                       250,500\n",
       "|    └─Linear: 2-3                       250,500\n",
       "├─Linear: 1-3                            2,500,500\n",
       "├─Linear: 1-4                            501\n",
       "├─LeakyReLU: 1-5                         --\n",
       "=================================================================\n",
       "Total params: 3,642,501\n",
       "Trainable params: 3,642,501\n",
       "Non-trainable params: 0\n",
       "================================================================="
      ]
     },
     "execution_count": 24,
     "metadata": {},
     "output_type": "execute_result"
    }
   ],
   "source": [
    "from torchsummary import summary\n",
    "print(hparams)\n",
    "\n",
    "\n",
    "model = GAT_Protein(hparams).to(device)\n",
    "summary(model)\n"
   ]
  },
  {
   "cell_type": "code",
   "execution_count": 27,
   "id": "1096e98f-ce24-424a-9c92-cf5353ef8100",
   "metadata": {},
   "outputs": [
    {
     "name": "stderr",
     "output_type": "stream",
     "text": [
      "  0%|                                                   | 0/149 [00:00<?, ?it/s]/tmp/ipykernel_2638/3202670333.py:28: UserWarning: Implicit dimension choice for softmax has been deprecated. Change the call to include dim=X as an argument.\n",
      "  x = nn.functional.softmax(x)\n",
      "100%|████████████████████████████████████████| 149/149 [00:00<00:00, 227.19it/s]\n"
     ]
    },
    {
     "name": "stdout",
     "output_type": "stream",
     "text": [
      "Epoch 0: train loss 68.45637583892618\n"
     ]
    },
    {
     "name": "stderr",
     "output_type": "stream",
     "text": [
      "100%|████████████████████████████████████████| 149/149 [00:00<00:00, 223.80it/s]\n"
     ]
    },
    {
     "name": "stdout",
     "output_type": "stream",
     "text": [
      "Epoch 1: train loss 68.45637583892618\n"
     ]
    },
    {
     "name": "stderr",
     "output_type": "stream",
     "text": [
      "100%|████████████████████████████████████████| 149/149 [00:00<00:00, 225.32it/s]\n"
     ]
    },
    {
     "name": "stdout",
     "output_type": "stream",
     "text": [
      "Epoch 2: train loss 68.45637583892618\n"
     ]
    },
    {
     "name": "stderr",
     "output_type": "stream",
     "text": [
      "100%|████████████████████████████████████████| 149/149 [00:00<00:00, 209.28it/s]\n"
     ]
    },
    {
     "name": "stdout",
     "output_type": "stream",
     "text": [
      "Epoch 3: train loss 68.45637583892618\n"
     ]
    },
    {
     "name": "stderr",
     "output_type": "stream",
     "text": [
      "100%|████████████████████████████████████████| 149/149 [00:00<00:00, 209.11it/s]\n"
     ]
    },
    {
     "name": "stdout",
     "output_type": "stream",
     "text": [
      "Epoch 4: train loss 68.45637583892618\n"
     ]
    },
    {
     "name": "stderr",
     "output_type": "stream",
     "text": [
      "100%|████████████████████████████████████████| 149/149 [00:00<00:00, 211.31it/s]\n"
     ]
    },
    {
     "name": "stdout",
     "output_type": "stream",
     "text": [
      "Epoch 5: train loss 68.45637583892618\n"
     ]
    },
    {
     "name": "stderr",
     "output_type": "stream",
     "text": [
      "100%|████████████████████████████████████████| 149/149 [00:00<00:00, 236.89it/s]\n"
     ]
    },
    {
     "name": "stdout",
     "output_type": "stream",
     "text": [
      "Epoch 6: train loss 68.45637583892618\n"
     ]
    },
    {
     "name": "stderr",
     "output_type": "stream",
     "text": [
      "100%|████████████████████████████████████████| 149/149 [00:00<00:00, 222.54it/s]\n"
     ]
    },
    {
     "name": "stdout",
     "output_type": "stream",
     "text": [
      "Epoch 7: train loss 68.45637583892618\n"
     ]
    },
    {
     "name": "stderr",
     "output_type": "stream",
     "text": [
      "100%|████████████████████████████████████████| 149/149 [00:00<00:00, 222.21it/s]\n"
     ]
    },
    {
     "name": "stdout",
     "output_type": "stream",
     "text": [
      "Epoch 8: train loss 68.45637583892618\n"
     ]
    },
    {
     "name": "stderr",
     "output_type": "stream",
     "text": [
      "100%|████████████████████████████████████████| 149/149 [00:00<00:00, 233.12it/s]"
     ]
    },
    {
     "name": "stdout",
     "output_type": "stream",
     "text": [
      "Epoch 9: train loss 68.45637583892618\n"
     ]
    },
    {
     "name": "stderr",
     "output_type": "stream",
     "text": [
      "\n"
     ]
    }
   ],
   "source": [
    "from tqdm import tqdm\n",
    "def train(model, train_loader):\n",
    "    model.train()\n",
    "    loss_fn = nn.BCELoss()\n",
    "    optimizer = torch.optim.Adam(model.parameters(), lr=hparams[\"lr\"])\n",
    "\n",
    "    for epoch in range(hparams[\"num_epochs\"]):\n",
    "        train_loss = []\n",
    "        \n",
    "        for iter, (bg, label) in enumerate(tqdm(train_loader)):\n",
    "            optimizer.zero_grad()\n",
    "            outputs = model(bg).double()\n",
    "            # print(label)\n",
    "            \n",
    "            label = torch.tensor([label]).to(device).double()\n",
    "            \n",
    "            # print(outputs.shape,label.shape)\n",
    "            # print(outputs,label)\n",
    "            # if iter == 2:\n",
    "            #     break\n",
    "            loss = loss_fn(outputs,label)\n",
    "            # print(\"Loss\",loss)\n",
    "            loss.backward()\n",
    "            \n",
    "            optimizer.step()\n",
    "            \n",
    "        \n",
    "            train_loss.append(loss.item())\n",
    "        # for param in model.parameters():\n",
    "        #     print(param.grad)\n",
    "        \n",
    "#         val_loss = []\n",
    "#         model = model.eval()\n",
    "#         with torch.no_grad():\n",
    "#             for iter, (bg, label) in enumerate(tqdm(val_loader)):\n",
    "#                 outputs = model(bg).double()\n",
    "#                 label = torch.tensor(label).double()\n",
    "#                 loss = loss_fn(outputs,label)\n",
    "#                 val_loss.append(loss.item())\n",
    "        \n",
    "        train_loss = np.mean(train_loss)\n",
    "        # val_loss = np.mean(val_loss)\n",
    "    \n",
    "        # print(f'Epoch {epoch}: train loss {train_loss} val loss {val_loss}')\n",
    "        print(f'Epoch {epoch}: train loss {train_loss}')\n",
    "\n",
    "train(model,train_dataset)\n"
   ]
  }
 ],
 "metadata": {
  "kernelspec": {
   "display_name": "gpu_env",
   "language": "python",
   "name": "gpu_env"
  },
  "language_info": {
   "codemirror_mode": {
    "name": "ipython",
    "version": 3
   },
   "file_extension": ".py",
   "mimetype": "text/x-python",
   "name": "python",
   "nbconvert_exporter": "python",
   "pygments_lexer": "ipython3",
   "version": "3.10.8"
  }
 },
 "nbformat": 4,
 "nbformat_minor": 5
}
