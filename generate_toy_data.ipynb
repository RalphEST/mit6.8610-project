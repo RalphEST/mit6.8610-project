{
 "cells": [
  {
   "cell_type": "markdown",
   "id": "0605d9dc-e72d-4231-81bc-465f0413aa95",
   "metadata": {},
   "source": [
    "## Simulate sequence and phenotype data\n",
    "This notebook is for development purposes only."
   ]
  },
  {
   "cell_type": "markdown",
   "id": "87fa4b8a-4ca9-4354-b737-d54b0c226417",
   "metadata": {},
   "source": [
    "#### TODO\n",
    "* Simulate patient phenotype data\n",
    "* \\[Optional\\] generate sequences without having to worry about duplicates (as done with the variants)"
   ]
  },
  {
   "cell_type": "code",
   "execution_count": 1,
   "id": "8eac89f4-ba51-4ff1-8751-b1547d0b38c1",
   "metadata": {},
   "outputs": [],
   "source": [
    "import numpy as np\n",
    "import pandas as pd\n",
    "\n",
    "np.random.seed(42)\n",
    "aa = \"ACDEFGHIKLMNPQRSTVWY\"\n",
    "\n",
    "aa_to_index = {k:i for i,k in enumerate(aa)}\n",
    "index_to_aa = {i:k for i,k in enumerate(aa)}\n",
    "\n",
    "# Troponin C\n",
    "refseq = \"MDDIYKAAVEQLTEEQKNEFKAAFDIFVLGAEDGCISTKELGKVMRMLGQNPTPEELQEMIDEVDEDGSGTVDFDEFLVMMVRCMKDDSKGKSEEELSDLFRMFDKNADGYIDLDELKIMLQATGETITEDDIEELMKDGDKNNDGRIDYDEFLEFMKGVE\"\n",
    "ref_onehot = np.identity(20)[[aa_to_index[x] for x in refseq],:]"
   ]
  },
  {
   "cell_type": "markdown",
   "id": "32113fb5-1059-401d-a5e5-c3afdc26c263",
   "metadata": {},
   "source": [
    "### Generate variants table"
   ]
  },
  {
   "cell_type": "code",
   "execution_count": 2,
   "id": "c6ee6c4f-8ae4-437c-8c03-4237abee9ddf",
   "metadata": {},
   "outputs": [],
   "source": [
    "# brute force (list all possible variants and sample) to avoid replicates\n",
    "variants = []\n",
    "for pos in range(len(refseq)):\n",
    "    for alt_ in np.arange(1,20):\n",
    "        alt = (aa_to_index[refseq[pos]]+alt_)%20\n",
    "        variants.append((pos, \n",
    "                         aa_to_index[refseq[pos]], \n",
    "                         alt,\n",
    "                         refseq[pos]+str(pos)+index_to_aa[alt]))\n",
    "        \n",
    "variants_idxs = np.random.choice(len(variants), size = 150, replace=False)\n",
    "variants = [variants[i] for i in variants_idxs]\n",
    "\n",
    "var_table = pd.DataFrame({'pos': [v[0] for v in variants], \n",
    "                          'ref': [v[1] for v in variants], \n",
    "                          'alt': [v[2] for v in variants], \n",
    "                          'id': [v[3] for v in variants]})\n",
    "\n",
    "assert len(var_table.drop_duplicates(subset='id')) == 150"
   ]
  },
  {
   "cell_type": "markdown",
   "id": "da399fb0-a337-4f88-96bd-3e3fe60a42fa",
   "metadata": {},
   "source": [
    "### Generate sequences table"
   ]
  },
  {
   "cell_type": "code",
   "execution_count": 3,
   "id": "ef9672a4-5746-42f1-87ba-de269075f9b3",
   "metadata": {},
   "outputs": [],
   "source": [
    "seq_nvars = np.random.poisson(1, size=200)+1\n",
    "\n",
    "seq_varpos = [np.random.choice(list(set(var_table['pos'])), \n",
    "                               size = n, replace=False) for n in seq_nvars]\n",
    "\n",
    "seq_varids = []\n",
    "for varpos in seq_varpos:\n",
    "    varids = []\n",
    "    for pos in varpos:\n",
    "        varids.append(np.random.choice(var_table[var_table['pos']==pos]['id']))\n",
    "    seq_varids.append('_'.join(sorted(varids)))\n",
    "\n",
    "seq_table = pd.DataFrame({'n_vars':[0], 'v_ids':['']})\n",
    "seq_table = pd.concat((seq_table, pd.DataFrame({'n_vars':seq_nvars, 'v_ids':seq_varids})))\n",
    "seq_table = seq_table.drop_duplicates(subset='v_ids', ignore_index=True)\n",
    "seq_table.index.name = 'seq_id'"
   ]
  },
  {
   "cell_type": "code",
   "execution_count": 4,
   "id": "7d617447-e4b1-4d81-a761-aaf88d059338",
   "metadata": {},
   "outputs": [
    {
     "data": {
      "text/html": [
       "<div>\n",
       "<style scoped>\n",
       "    .dataframe tbody tr th:only-of-type {\n",
       "        vertical-align: middle;\n",
       "    }\n",
       "\n",
       "    .dataframe tbody tr th {\n",
       "        vertical-align: top;\n",
       "    }\n",
       "\n",
       "    .dataframe thead th {\n",
       "        text-align: right;\n",
       "    }\n",
       "</style>\n",
       "<table border=\"1\" class=\"dataframe\">\n",
       "  <thead>\n",
       "    <tr style=\"text-align: right;\">\n",
       "      <th></th>\n",
       "      <th>n_vars</th>\n",
       "      <th>v_ids</th>\n",
       "    </tr>\n",
       "    <tr>\n",
       "      <th>seq_id</th>\n",
       "      <th></th>\n",
       "      <th></th>\n",
       "    </tr>\n",
       "  </thead>\n",
       "  <tbody>\n",
       "    <tr>\n",
       "      <th>0</th>\n",
       "      <td>0</td>\n",
       "      <td></td>\n",
       "    </tr>\n",
       "    <tr>\n",
       "      <th>1</th>\n",
       "      <td>1</td>\n",
       "      <td>M46F</td>\n",
       "    </tr>\n",
       "    <tr>\n",
       "      <th>2</th>\n",
       "      <td>1</td>\n",
       "      <td>G33T</td>\n",
       "    </tr>\n",
       "    <tr>\n",
       "      <th>3</th>\n",
       "      <td>1</td>\n",
       "      <td>C83D</td>\n",
       "    </tr>\n",
       "    <tr>\n",
       "      <th>4</th>\n",
       "      <td>1</td>\n",
       "      <td>S97Y</td>\n",
       "    </tr>\n",
       "    <tr>\n",
       "      <th>...</th>\n",
       "      <td>...</td>\n",
       "      <td>...</td>\n",
       "    </tr>\n",
       "    <tr>\n",
       "      <th>182</th>\n",
       "      <td>2</td>\n",
       "      <td>E160R_I111H</td>\n",
       "    </tr>\n",
       "    <tr>\n",
       "      <th>183</th>\n",
       "      <td>1</td>\n",
       "      <td>M119L</td>\n",
       "    </tr>\n",
       "    <tr>\n",
       "      <th>184</th>\n",
       "      <td>3</td>\n",
       "      <td>F73A_G69K_L153C</td>\n",
       "    </tr>\n",
       "    <tr>\n",
       "      <th>185</th>\n",
       "      <td>2</td>\n",
       "      <td>S88W_T12L</td>\n",
       "    </tr>\n",
       "    <tr>\n",
       "      <th>186</th>\n",
       "      <td>2</td>\n",
       "      <td>D148P_K85D</td>\n",
       "    </tr>\n",
       "  </tbody>\n",
       "</table>\n",
       "<p>187 rows × 2 columns</p>\n",
       "</div>"
      ],
      "text/plain": [
       "        n_vars            v_ids\n",
       "seq_id                         \n",
       "0            0                 \n",
       "1            1             M46F\n",
       "2            1             G33T\n",
       "3            1             C83D\n",
       "4            1             S97Y\n",
       "...        ...              ...\n",
       "182          2      E160R_I111H\n",
       "183          1            M119L\n",
       "184          3  F73A_G69K_L153C\n",
       "185          2        S88W_T12L\n",
       "186          2       D148P_K85D\n",
       "\n",
       "[187 rows x 2 columns]"
      ]
     },
     "execution_count": 4,
     "metadata": {},
     "output_type": "execute_result"
    }
   ],
   "source": [
    "seq_table"
   ]
  },
  {
   "cell_type": "markdown",
   "id": "88ccd53e-30ea-41f2-b086-68a1bbc36584",
   "metadata": {},
   "source": [
    "### Generate sequence data"
   ]
  },
  {
   "cell_type": "code",
   "execution_count": 5,
   "id": "42c4ed0d-c837-4fee-b077-5fc0d14701b1",
   "metadata": {},
   "outputs": [],
   "source": [
    "seq_data = np.repeat(ref_onehot[np.newaxis, :, :], \n",
    "                     repeats = len(seq_table)+1, \n",
    "                     axis =0)\n",
    "\n",
    "for seq_id, vids in enumerate(seq_table['v_ids']):\n",
    "    if seq_id>0:\n",
    "        for vid in vids.split('_'):\n",
    "            ref, pos, alt = aa_to_index[vid[0]], \\\n",
    "                            int(vid[1:-1]), \\\n",
    "                            aa_to_index[vid[-1]]\n",
    "            assert seq_data[seq_id, pos, ref] == 1\n",
    "            seq_data[seq_id, pos, :] = 0\n",
    "            seq_data[seq_id, pos, alt] = 1\n"
   ]
  },
  {
   "cell_type": "markdown",
   "id": "026299a5-0f5e-4b33-95d9-26900c9f289a",
   "metadata": {},
   "source": [
    "#### Save tables and matrix data"
   ]
  },
  {
   "cell_type": "code",
   "execution_count": 6,
   "id": "3ed3c836-ebc2-47d5-a8ad-91141774ad75",
   "metadata": {},
   "outputs": [],
   "source": [
    "var_table.to_parquet(\"data/toy_data/variants.parquet\")\n",
    "seq_table.to_parquet(\"data/toy_data/sequences.parquet\")\n",
    "np.save(\"data/toy_data/seq_data.npy\", seq_data)"
   ]
  }
 ],
 "metadata": {
  "kernelspec": {
   "display_name": "Python 3 (ipykernel)",
   "language": "python",
   "name": "python3"
  },
  "language_info": {
   "codemirror_mode": {
    "name": "ipython",
    "version": 3
   },
   "file_extension": ".py",
   "mimetype": "text/x-python",
   "name": "python",
   "nbconvert_exporter": "python",
   "pygments_lexer": "ipython3",
   "version": "3.9.12"
  }
 },
 "nbformat": 4,
 "nbformat_minor": 5
}
