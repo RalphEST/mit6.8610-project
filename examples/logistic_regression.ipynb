{
 "cells": [
  {
   "cell_type": "code",
   "execution_count": 6,
   "id": "dc42fa05-d90c-47fb-bbe0-0a950c748564",
   "metadata": {},
   "outputs": [],
   "source": [
    "# basics + plotting\n",
    "import pandas as pd\n",
    "import numpy as np\n",
    "import matplotlib.pyplot as plt\n",
    "plt.rcParams[\"figure.dpi\"] = 250\n",
    "plt.rcParams[\"font.family\"] = \"sans serif\"\n",
    "\n",
    "# PyTorch imports\n",
    "import torch\n",
    "import torch.nn as nn\n",
    "import torch.nn.functional as F\n",
    "import torch.optim as optim\n",
    "from torch.utils.data import DataLoader, WeightedRandomSampler\n",
    "\n",
    "# custom\n",
    "import os, sys\n",
    "UTILS_PATH = '/'.join(os.getcwd().split('/')[:-1] + ['utils'])\n",
    "MODELS_PATH = '/'.join(os.getcwd().split('/')[:-1] + ['models'])\n",
    "sys.path.insert(1, UTILS_PATH)\n",
    "sys.path.insert(1, MODELS_PATH)\n",
    "import plotting_utils\n",
    "import data_utils\n",
    "import mlp"
   ]
  },
  {
   "cell_type": "code",
   "execution_count": 2,
   "id": "2c0e527a-b0ce-4ac4-a90f-11407e9e7e1a",
   "metadata": {},
   "outputs": [
    {
     "name": "stdout",
     "output_type": "stream",
     "text": [
      "Using cpu device\n"
     ]
    }
   ],
   "source": [
    "device = \"cuda\" if torch.cuda.is_available() else \"cpu\"\n",
    "print(f\"Using {device} device\")"
   ]
  },
  {
   "cell_type": "code",
   "execution_count": 16,
   "id": "301898cc-cf90-4d0a-8278-1cddf6ee4a31",
   "metadata": {},
   "outputs": [],
   "source": [
    "import json"
   ]
  },
  {
   "cell_type": "code",
   "execution_count": 18,
   "id": "fa46e028-df7b-4c01-baca-3c2b0d098479",
   "metadata": {},
   "outputs": [],
   "source": []
  },
  {
   "cell_type": "code",
   "execution_count": 9,
   "id": "90b8fbb4-2de7-4361-9c4f-6c57788c52e8",
   "metadata": {},
   "outputs": [],
   "source": [
    "with open(\"../gene_list.txt\", 'r') as file:\n",
    "    gene_list = [x.strip() for x in file.readlines()]\n",
    "\n",
    "table_paths = {g:{'variants': f'../data/data/{g}/variants_table.parquet', \n",
    "                  'sequences': f'../data/data/{g}/seq_table.parquet', \n",
    "                  'patients': f'../data/data/{g}/patients_table.parquet',\n",
    "                  'haplotypes': f'../data/data/{g}/hap_table.parquet'} for g in gene_list[:]}\n",
    "data_paths = {g:{\n",
    "                 'seq-var-matrix': f'../data/data/{g}/seq_var_matrix.npy'\n",
    "                } \n",
    "              for g in gene_list[:]}"
   ]
  },
  {
   "cell_type": "code",
   "execution_count": 12,
   "id": "154b9ffe-dc35-4e3f-9b7d-403968fd0d47",
   "metadata": {},
   "outputs": [],
   "source": [
    "phendata = pd.read_csv(\"../../../../all_phenotyes_aug2022/split_phenotypes/131338.csv\", \n",
    "                       low_memory=False)\\\n",
    "            .set_index('eid')\\\n",
    "            .fillna(0)\\\n",
    "            .apply({'131338-0.0': lambda x: 1 if x!=0 else 0})\n",
    "phendata.index = phendata.index.astype(str)"
   ]
  },
  {
   "cell_type": "code",
   "execution_count": 14,
   "id": "d945e3ce-3b4e-4a9c-83b5-3f60fb7c32c5",
   "metadata": {},
   "outputs": [
    {
     "name": "stdout",
     "output_type": "stream",
     "text": [
      "Fetching FHL1 data ... Done.\n",
      "Fetching ACTC1 data ... Done.\n",
      "Fetching ACTN2 data ... Done.\n",
      "Fetching CSRP3 data ... Done.\n",
      "Fetching MYBPC3 data ... Done.\n",
      "Fetching MYH6 data ... Done.\n",
      "Fetching MYH7 data ... Done.\n",
      "Fetching MYL2 data ... Done.\n",
      "Fetching MYL3 data ... Done.\n",
      "Fetching MYOZ2 data ... Done.\n",
      "Fetching LDB3 data ... Done.\n",
      "Fetching TCAP data ... Done.\n",
      "Fetching TNNC1 data ... Done.\n",
      "Fetching TNNI3 data ... Done.\n",
      "Fetching TNNT2 data ... Done.\n",
      "Fetching TPM1 data ... Done.\n",
      "Fetching TRIM63 data ... Done.\n",
      "Fetching PLN data ... Done.\n",
      "Fetching JPH2 data ... Done.\n",
      "Fetching FLNC data ... Done.\n",
      "Fetching ALPK3 data ... Done.\n",
      "Fetching LMNA data ... Done.\n",
      "Fetching NEXN data ... Done.\n",
      "Fetching VCL data ... Done.\n",
      "Fetching MYOM2 data ... Done.\n",
      "Fetching CASQ2 data ... Done.\n",
      "Fetching CAV3 data ... Done.\n",
      "Fetching MYLK2 data ... Done.\n",
      "Fetching CRYAB data ... Done.\n",
      "Combining tables ... Done.\n",
      "Integrating with phenotypes data ...Done.\n"
     ]
    }
   ],
   "source": [
    "data = data_utils.VariationDataset(table_paths=table_paths, \n",
    "                                   data_paths=data_paths, \n",
    "                                   phenotypes=phendata, \n",
    "                                   keep_genes_separate=False)"
   ]
  },
  {
   "cell_type": "code",
   "execution_count": 30,
   "id": "b9196fa3-33d7-4b92-a2ec-a4e322186e7c",
   "metadata": {},
   "outputs": [],
   "source": [
    "params = json.load(open(\"../params/mlp.json\"))"
   ]
  },
  {
   "cell_type": "code",
   "execution_count": 31,
   "id": "edf3caaa-d854-4672-9a37-a4a2e9ffd6b1",
   "metadata": {},
   "outputs": [
    {
     "data": {
      "text/plain": [
       "MLP(\n",
       "  (fc): Sequential(\n",
       "    (0): Linear(in_features=10, out_features=5, bias=True)\n",
       "    (1): ReLU()\n",
       "    (2): Dropout(p=0.1, inplace=False)\n",
       "    (3): Linear(in_features=5, out_features=5, bias=True)\n",
       "    (4): ReLU()\n",
       "    (5): Linear(in_features=5, out_features=2, bias=True)\n",
       "  )\n",
       ")"
      ]
     },
     "execution_count": 31,
     "metadata": {},
     "output_type": "execute_result"
    }
   ],
   "source": [
    "mlp.MLP(**params['model_params'])"
   ]
  },
  {
   "cell_type": "code",
   "execution_count": null,
   "id": "47004601-4184-4033-9564-6979e85ea3c9",
   "metadata": {},
   "outputs": [],
   "source": []
  }
 ],
 "metadata": {
  "kernelspec": {
   "display_name": "Python 3 (ipykernel)",
   "language": "python",
   "name": "python3"
  },
  "language_info": {
   "codemirror_mode": {
    "name": "ipython",
    "version": 3
   },
   "file_extension": ".py",
   "mimetype": "text/x-python",
   "name": "python",
   "nbconvert_exporter": "python",
   "pygments_lexer": "ipython3",
   "version": "3.9.12"
  }
 },
 "nbformat": 4,
 "nbformat_minor": 5
}
